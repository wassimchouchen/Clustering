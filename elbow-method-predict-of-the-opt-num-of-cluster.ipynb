{
 "cells": [
  {
   "cell_type": "code",
   "execution_count": 1,
   "id": "147a934f",
   "metadata": {
    "_cell_guid": "b1076dfc-b9ad-4769-8c92-a6c4dae69d19",
    "_uuid": "8f2839f25d086af736a60e9eeb907d3b93b6e0e5",
    "execution": {
     "iopub.execute_input": "2021-12-19T17:43:40.146418Z",
     "iopub.status.busy": "2021-12-19T17:43:40.144669Z",
     "iopub.status.idle": "2021-12-19T17:43:41.580251Z",
     "shell.execute_reply": "2021-12-19T17:43:41.580848Z",
     "shell.execute_reply.started": "2021-12-05T23:31:59.115753Z"
    },
    "papermill": {
     "duration": 1.454836,
     "end_time": "2021-12-19T17:43:41.581160",
     "exception": false,
     "start_time": "2021-12-19T17:43:40.126324",
     "status": "completed"
    },
    "tags": []
   },
   "outputs": [],
   "source": [
    "import numpy as np\n",
    "import matplotlib.pyplot as plt\n",
    "import pandas as pd\n",
    "from sklearn import datasets\n",
    "from sklearn.cluster import KMeans"
   ]
  },
  {
   "cell_type": "code",
   "execution_count": 2,
   "id": "974652e5",
   "metadata": {
    "execution": {
     "iopub.execute_input": "2021-12-19T17:43:41.613682Z",
     "iopub.status.busy": "2021-12-19T17:43:41.612937Z",
     "iopub.status.idle": "2021-12-19T17:43:41.640122Z",
     "shell.execute_reply": "2021-12-19T17:43:41.640674Z",
     "shell.execute_reply.started": "2021-12-05T23:32:00.53686Z"
    },
    "papermill": {
     "duration": 0.046428,
     "end_time": "2021-12-19T17:43:41.640895",
     "exception": false,
     "start_time": "2021-12-19T17:43:41.594467",
     "status": "completed"
    },
    "tags": []
   },
   "outputs": [
    {
     "data": {
      "text/html": [
       "<div>\n",
       "<style scoped>\n",
       "    .dataframe tbody tr th:only-of-type {\n",
       "        vertical-align: middle;\n",
       "    }\n",
       "\n",
       "    .dataframe tbody tr th {\n",
       "        vertical-align: top;\n",
       "    }\n",
       "\n",
       "    .dataframe thead th {\n",
       "        text-align: right;\n",
       "    }\n",
       "</style>\n",
       "<table border=\"1\" class=\"dataframe\">\n",
       "  <thead>\n",
       "    <tr style=\"text-align: right;\">\n",
       "      <th></th>\n",
       "      <th>sepal length (cm)</th>\n",
       "      <th>sepal width (cm)</th>\n",
       "      <th>petal length (cm)</th>\n",
       "      <th>petal width (cm)</th>\n",
       "    </tr>\n",
       "  </thead>\n",
       "  <tbody>\n",
       "    <tr>\n",
       "      <th>0</th>\n",
       "      <td>5.1</td>\n",
       "      <td>3.5</td>\n",
       "      <td>1.4</td>\n",
       "      <td>0.2</td>\n",
       "    </tr>\n",
       "    <tr>\n",
       "      <th>1</th>\n",
       "      <td>4.9</td>\n",
       "      <td>3.0</td>\n",
       "      <td>1.4</td>\n",
       "      <td>0.2</td>\n",
       "    </tr>\n",
       "    <tr>\n",
       "      <th>2</th>\n",
       "      <td>4.7</td>\n",
       "      <td>3.2</td>\n",
       "      <td>1.3</td>\n",
       "      <td>0.2</td>\n",
       "    </tr>\n",
       "    <tr>\n",
       "      <th>3</th>\n",
       "      <td>4.6</td>\n",
       "      <td>3.1</td>\n",
       "      <td>1.5</td>\n",
       "      <td>0.2</td>\n",
       "    </tr>\n",
       "    <tr>\n",
       "      <th>4</th>\n",
       "      <td>5.0</td>\n",
       "      <td>3.6</td>\n",
       "      <td>1.4</td>\n",
       "      <td>0.2</td>\n",
       "    </tr>\n",
       "  </tbody>\n",
       "</table>\n",
       "</div>"
      ],
      "text/plain": [
       "   sepal length (cm)  sepal width (cm)  petal length (cm)  petal width (cm)\n",
       "0                5.1               3.5                1.4               0.2\n",
       "1                4.9               3.0                1.4               0.2\n",
       "2                4.7               3.2                1.3               0.2\n",
       "3                4.6               3.1                1.5               0.2\n",
       "4                5.0               3.6                1.4               0.2"
      ]
     },
     "execution_count": 2,
     "metadata": {},
     "output_type": "execute_result"
    }
   ],
   "source": [
    "iris = datasets.load_iris()\n",
    "irisdf = pd.DataFrame(iris.data, columns = iris.feature_names)\n",
    "irisdf.head()"
   ]
  },
  {
   "cell_type": "code",
   "execution_count": 3,
   "id": "0180968f",
   "metadata": {
    "execution": {
     "iopub.execute_input": "2021-12-19T17:43:41.674663Z",
     "iopub.status.busy": "2021-12-19T17:43:41.673636Z",
     "iopub.status.idle": "2021-12-19T17:43:41.685384Z",
     "shell.execute_reply": "2021-12-19T17:43:41.686089Z",
     "shell.execute_reply.started": "2021-12-05T23:32:00.572606Z"
    },
    "papermill": {
     "duration": 0.030564,
     "end_time": "2021-12-19T17:43:41.686268",
     "exception": false,
     "start_time": "2021-12-19T17:43:41.655704",
     "status": "completed"
    },
    "tags": []
   },
   "outputs": [
    {
     "data": {
      "text/plain": [
       "<bound method DataFrame.info of      sepal length (cm)  sepal width (cm)  petal length (cm)  petal width (cm)\n",
       "0                  5.1               3.5                1.4               0.2\n",
       "1                  4.9               3.0                1.4               0.2\n",
       "2                  4.7               3.2                1.3               0.2\n",
       "3                  4.6               3.1                1.5               0.2\n",
       "4                  5.0               3.6                1.4               0.2\n",
       "..                 ...               ...                ...               ...\n",
       "145                6.7               3.0                5.2               2.3\n",
       "146                6.3               2.5                5.0               1.9\n",
       "147                6.5               3.0                5.2               2.0\n",
       "148                6.2               3.4                5.4               2.3\n",
       "149                5.9               3.0                5.1               1.8\n",
       "\n",
       "[150 rows x 4 columns]>"
      ]
     },
     "execution_count": 3,
     "metadata": {},
     "output_type": "execute_result"
    }
   ],
   "source": [
    "irisdf.info"
   ]
  },
  {
   "cell_type": "code",
   "execution_count": 4,
   "id": "4af4315c",
   "metadata": {
    "execution": {
     "iopub.execute_input": "2021-12-19T17:43:41.719233Z",
     "iopub.status.busy": "2021-12-19T17:43:41.718250Z",
     "iopub.status.idle": "2021-12-19T17:43:41.724271Z",
     "shell.execute_reply": "2021-12-19T17:43:41.724909Z",
     "shell.execute_reply.started": "2021-12-05T23:32:00.589088Z"
    },
    "papermill": {
     "duration": 0.023509,
     "end_time": "2021-12-19T17:43:41.725080",
     "exception": false,
     "start_time": "2021-12-19T17:43:41.701571",
     "status": "completed"
    },
    "tags": []
   },
   "outputs": [
    {
     "data": {
      "text/plain": [
       "(150, 4)"
      ]
     },
     "execution_count": 4,
     "metadata": {},
     "output_type": "execute_result"
    }
   ],
   "source": [
    "irisdf.shape"
   ]
  },
  {
   "cell_type": "code",
   "execution_count": 5,
   "id": "e10cfb89",
   "metadata": {
    "execution": {
     "iopub.execute_input": "2021-12-19T17:43:41.756568Z",
     "iopub.status.busy": "2021-12-19T17:43:41.755633Z",
     "iopub.status.idle": "2021-12-19T17:43:41.792198Z",
     "shell.execute_reply": "2021-12-19T17:43:41.791669Z",
     "shell.execute_reply.started": "2021-12-05T23:32:00.602072Z"
    },
    "papermill": {
     "duration": 0.053566,
     "end_time": "2021-12-19T17:43:41.792341",
     "exception": false,
     "start_time": "2021-12-19T17:43:41.738775",
     "status": "completed"
    },
    "tags": []
   },
   "outputs": [
    {
     "data": {
      "text/html": [
       "<div>\n",
       "<style scoped>\n",
       "    .dataframe tbody tr th:only-of-type {\n",
       "        vertical-align: middle;\n",
       "    }\n",
       "\n",
       "    .dataframe tbody tr th {\n",
       "        vertical-align: top;\n",
       "    }\n",
       "\n",
       "    .dataframe thead th {\n",
       "        text-align: right;\n",
       "    }\n",
       "</style>\n",
       "<table border=\"1\" class=\"dataframe\">\n",
       "  <thead>\n",
       "    <tr style=\"text-align: right;\">\n",
       "      <th></th>\n",
       "      <th>sepal length (cm)</th>\n",
       "      <th>sepal width (cm)</th>\n",
       "      <th>petal length (cm)</th>\n",
       "      <th>petal width (cm)</th>\n",
       "    </tr>\n",
       "  </thead>\n",
       "  <tbody>\n",
       "    <tr>\n",
       "      <th>count</th>\n",
       "      <td>150.000000</td>\n",
       "      <td>150.000000</td>\n",
       "      <td>150.000000</td>\n",
       "      <td>150.000000</td>\n",
       "    </tr>\n",
       "    <tr>\n",
       "      <th>mean</th>\n",
       "      <td>5.843333</td>\n",
       "      <td>3.057333</td>\n",
       "      <td>3.758000</td>\n",
       "      <td>1.199333</td>\n",
       "    </tr>\n",
       "    <tr>\n",
       "      <th>std</th>\n",
       "      <td>0.828066</td>\n",
       "      <td>0.435866</td>\n",
       "      <td>1.765298</td>\n",
       "      <td>0.762238</td>\n",
       "    </tr>\n",
       "    <tr>\n",
       "      <th>min</th>\n",
       "      <td>4.300000</td>\n",
       "      <td>2.000000</td>\n",
       "      <td>1.000000</td>\n",
       "      <td>0.100000</td>\n",
       "    </tr>\n",
       "    <tr>\n",
       "      <th>25%</th>\n",
       "      <td>5.100000</td>\n",
       "      <td>2.800000</td>\n",
       "      <td>1.600000</td>\n",
       "      <td>0.300000</td>\n",
       "    </tr>\n",
       "    <tr>\n",
       "      <th>50%</th>\n",
       "      <td>5.800000</td>\n",
       "      <td>3.000000</td>\n",
       "      <td>4.350000</td>\n",
       "      <td>1.300000</td>\n",
       "    </tr>\n",
       "    <tr>\n",
       "      <th>75%</th>\n",
       "      <td>6.400000</td>\n",
       "      <td>3.300000</td>\n",
       "      <td>5.100000</td>\n",
       "      <td>1.800000</td>\n",
       "    </tr>\n",
       "    <tr>\n",
       "      <th>max</th>\n",
       "      <td>7.900000</td>\n",
       "      <td>4.400000</td>\n",
       "      <td>6.900000</td>\n",
       "      <td>2.500000</td>\n",
       "    </tr>\n",
       "  </tbody>\n",
       "</table>\n",
       "</div>"
      ],
      "text/plain": [
       "       sepal length (cm)  sepal width (cm)  petal length (cm)  \\\n",
       "count         150.000000        150.000000         150.000000   \n",
       "mean            5.843333          3.057333           3.758000   \n",
       "std             0.828066          0.435866           1.765298   \n",
       "min             4.300000          2.000000           1.000000   \n",
       "25%             5.100000          2.800000           1.600000   \n",
       "50%             5.800000          3.000000           4.350000   \n",
       "75%             6.400000          3.300000           5.100000   \n",
       "max             7.900000          4.400000           6.900000   \n",
       "\n",
       "       petal width (cm)  \n",
       "count        150.000000  \n",
       "mean           1.199333  \n",
       "std            0.762238  \n",
       "min            0.100000  \n",
       "25%            0.300000  \n",
       "50%            1.300000  \n",
       "75%            1.800000  \n",
       "max            2.500000  "
      ]
     },
     "execution_count": 5,
     "metadata": {},
     "output_type": "execute_result"
    }
   ],
   "source": [
    "irisdf.describe()"
   ]
  },
  {
   "cell_type": "code",
   "execution_count": 6,
   "id": "ac57e45c",
   "metadata": {
    "execution": {
     "iopub.execute_input": "2021-12-19T17:43:41.826323Z",
     "iopub.status.busy": "2021-12-19T17:43:41.825651Z",
     "iopub.status.idle": "2021-12-19T17:43:41.832320Z",
     "shell.execute_reply": "2021-12-19T17:43:41.831712Z",
     "shell.execute_reply.started": "2021-12-05T23:32:00.641818Z"
    },
    "papermill": {
     "duration": 0.025772,
     "end_time": "2021-12-19T17:43:41.832463",
     "exception": false,
     "start_time": "2021-12-19T17:43:41.806691",
     "status": "completed"
    },
    "tags": []
   },
   "outputs": [
    {
     "data": {
      "text/plain": [
       "sepal length (cm)    0\n",
       "sepal width (cm)     0\n",
       "petal length (cm)    0\n",
       "petal width (cm)     0\n",
       "dtype: int64"
      ]
     },
     "execution_count": 6,
     "metadata": {},
     "output_type": "execute_result"
    }
   ],
   "source": [
    "irisdf.isnull().sum()"
   ]
  },
  {
   "cell_type": "code",
   "execution_count": 7,
   "id": "51af0864",
   "metadata": {
    "execution": {
     "iopub.execute_input": "2021-12-19T17:43:41.865770Z",
     "iopub.status.busy": "2021-12-19T17:43:41.864919Z",
     "iopub.status.idle": "2021-12-19T17:43:41.870758Z",
     "shell.execute_reply": "2021-12-19T17:43:41.871408Z",
     "shell.execute_reply.started": "2021-12-05T23:32:00.652403Z"
    },
    "papermill": {
     "duration": 0.024823,
     "end_time": "2021-12-19T17:43:41.871735",
     "exception": false,
     "start_time": "2021-12-19T17:43:41.846912",
     "status": "completed"
    },
    "tags": []
   },
   "outputs": [],
   "source": [
    "x = irisdf.iloc[:, [0, 1, 2, 3]].values"
   ]
  },
  {
   "cell_type": "markdown",
   "id": "5179ce3c",
   "metadata": {
    "papermill": {
     "duration": 0.016757,
     "end_time": "2021-12-19T17:43:41.904905",
     "exception": false,
     "start_time": "2021-12-19T17:43:41.888148",
     "status": "completed"
    },
    "tags": []
   },
   "source": [
    "# Using the elbow method "
   ]
  },
  {
   "cell_type": "code",
   "execution_count": 8,
   "id": "bf96bf99",
   "metadata": {
    "execution": {
     "iopub.execute_input": "2021-12-19T17:43:41.940266Z",
     "iopub.status.busy": "2021-12-19T17:43:41.939506Z",
     "iopub.status.idle": "2021-12-19T17:43:42.456512Z",
     "shell.execute_reply": "2021-12-19T17:43:42.457489Z",
     "shell.execute_reply.started": "2021-12-05T23:32:00.661928Z"
    },
    "papermill": {
     "duration": 0.537077,
     "end_time": "2021-12-19T17:43:42.457699",
     "exception": false,
     "start_time": "2021-12-19T17:43:41.920622",
     "status": "completed"
    },
    "tags": []
   },
   "outputs": [
    {
     "data": {
      "text/plain": [
       "[681.3705999999996,\n",
       " 152.34795176035797,\n",
       " 78.851441426146,\n",
       " 57.22847321428572,\n",
       " 46.44618205128204,\n",
       " 39.03998724608725,\n",
       " 34.316578453710044,\n",
       " 30.71427532356816,\n",
       " 27.888241626794276]"
      ]
     },
     "execution_count": 8,
     "metadata": {},
     "output_type": "execute_result"
    }
   ],
   "source": [
    "wcs=[]\n",
    "\n",
    "for i in range(1,10):\n",
    "    kmeans=KMeans(i)\n",
    "    kmeans.fit(irisdf)\n",
    "    wcss_iter=kmeans.inertia_\n",
    "    wcs.append(wcss_iter)\n",
    "    \n",
    "wcs"
   ]
  },
  {
   "cell_type": "code",
   "execution_count": 9,
   "id": "c96deaa0",
   "metadata": {
    "execution": {
     "iopub.execute_input": "2021-12-19T17:43:42.500183Z",
     "iopub.status.busy": "2021-12-19T17:43:42.499408Z",
     "iopub.status.idle": "2021-12-19T17:43:42.756452Z",
     "shell.execute_reply": "2021-12-19T17:43:42.755901Z",
     "shell.execute_reply.started": "2021-12-05T23:32:01.142389Z"
    },
    "papermill": {
     "duration": 0.28319,
     "end_time": "2021-12-19T17:43:42.756606",
     "exception": false,
     "start_time": "2021-12-19T17:43:42.473416",
     "status": "completed"
    },
    "tags": []
   },
   "outputs": [
    {
     "data": {
      "text/plain": [
       "Text(0, 0.5, 'Within Clusters Sum of squares')"
      ]
     },
     "execution_count": 9,
     "metadata": {},
     "output_type": "execute_result"
    },
    {
     "data": {
      "image/png": "[encoded data removed]",
      "text/plain": [
       "<Figure size 432x288 with 1 Axes>"
      ]
     },
     "metadata": {
      "needs_background": "light"
     },
     "output_type": "display_data"
    }
   ],
   "source": [
    "nu_clusters=range(1,10)\n",
    "plt.plot(nu_clusters,wcs,'o-')\n",
    "plt.xlabel('Number of Clusters')\n",
    "plt.ylabel('Within Clusters Sum of squares')"
   ]
  },
  {
   "cell_type": "code",
   "execution_count": 10,
   "id": "0f580416",
   "metadata": {
    "execution": {
     "iopub.execute_input": "2021-12-19T17:43:42.796464Z",
     "iopub.status.busy": "2021-12-19T17:43:42.795412Z",
     "iopub.status.idle": "2021-12-19T17:43:42.825615Z",
     "shell.execute_reply": "2021-12-19T17:43:42.825039Z",
     "shell.execute_reply.started": "2021-12-05T23:32:01.41032Z"
    },
    "papermill": {
     "duration": 0.052999,
     "end_time": "2021-12-19T17:43:42.825783",
     "exception": false,
     "start_time": "2021-12-19T17:43:42.772784",
     "status": "completed"
    },
    "tags": []
   },
   "outputs": [],
   "source": [
    "kmeans = KMeans(n_clusters = 3, init = 'k-means++',max_iter = 300, n_init = 10, random_state = 0)\n",
    "_kmeans = kmeans.fit_predict(irisdf)"
   ]
  },
  {
   "cell_type": "code",
   "execution_count": 11,
   "id": "7833b28a",
   "metadata": {
    "execution": {
     "iopub.execute_input": "2021-12-19T17:43:42.863742Z",
     "iopub.status.busy": "2021-12-19T17:43:42.863083Z",
     "iopub.status.idle": "2021-12-19T17:43:42.866197Z",
     "shell.execute_reply": "2021-12-19T17:43:42.865685Z",
     "shell.execute_reply.started": "2021-12-05T23:32:01.453839Z"
    },
    "papermill": {
     "duration": 0.024796,
     "end_time": "2021-12-19T17:43:42.866330",
     "exception": false,
     "start_time": "2021-12-19T17:43:42.841534",
     "status": "completed"
    },
    "tags": []
   },
   "outputs": [
    {
     "data": {
      "text/plain": [
       "array([1, 1, 1, 1, 1, 1, 1, 1, 1, 1, 1, 1, 1, 1, 1, 1, 1, 1, 1, 1, 1, 1,\n",
       "       1, 1, 1, 1, 1, 1, 1, 1, 1, 1, 1, 1, 1, 1, 1, 1, 1, 1, 1, 1, 1, 1,\n",
       "       1, 1, 1, 1, 1, 1, 2, 2, 0, 2, 2, 2, 2, 2, 2, 2, 2, 2, 2, 2, 2, 2,\n",
       "       2, 2, 2, 2, 2, 2, 2, 2, 2, 2, 2, 0, 2, 2, 2, 2, 2, 2, 2, 2, 2, 2,\n",
       "       2, 2, 2, 2, 2, 2, 2, 2, 2, 2, 2, 2, 0, 2, 0, 0, 0, 0, 2, 0, 0, 0,\n",
       "       0, 0, 0, 2, 2, 0, 0, 0, 0, 2, 0, 2, 0, 2, 0, 0, 2, 2, 0, 0, 0, 0,\n",
       "       0, 2, 0, 0, 0, 0, 2, 0, 0, 0, 2, 0, 0, 0, 2, 0, 0, 2], dtype=int32)"
      ]
     },
     "execution_count": 11,
     "metadata": {},
     "output_type": "execute_result"
    }
   ],
   "source": [
    "_kmeans"
   ]
  },
  {
   "cell_type": "code",
   "execution_count": 12,
   "id": "b53171b3",
   "metadata": {
    "execution": {
     "iopub.execute_input": "2021-12-19T17:43:42.903002Z",
     "iopub.status.busy": "2021-12-19T17:43:42.902236Z",
     "iopub.status.idle": "2021-12-19T17:43:43.276501Z",
     "shell.execute_reply": "2021-12-19T17:43:43.277348Z",
     "shell.execute_reply.started": "2021-12-05T23:32:01.464755Z"
    },
    "papermill": {
     "duration": 0.39452,
     "end_time": "2021-12-19T17:43:43.277636",
     "exception": false,
     "start_time": "2021-12-19T17:43:42.883116",
     "status": "completed"
    },
    "tags": []
   },
   "outputs": [
    {
     "data": {
      "text/plain": [
       "<matplotlib.legend.Legend at 0x7f62d2f14e90>"
      ]
     },
     "execution_count": 12,
     "metadata": {},
     "output_type": "execute_result"
    },
    {
     "data": {
      "image/png": "[encoded data removed]",
      "text/plain": [
       "<Figure size 720x432 with 1 Axes>"
      ]
     },
     "metadata": {
      "needs_background": "light"
     },
     "output_type": "display_data"
    }
   ],
   "source": [
    "plt.figure(figsize=(10,6))\n",
    "plt.scatter(x[_kmeans == 0,0], x[_kmeans == 0,1], s=100,c='red',label='Iris-setosa')\n",
    "plt.scatter(x[_kmeans == 1,0], x[_kmeans == 1,1], s=100,c='blue',label='Iris-versicolar')\n",
    "plt.scatter(x[_kmeans == 2,0], x[_kmeans == 2,1], s=100,c='green',label='Iris-verginica')\n",
    "plt.scatter(kmeans.cluster_centers_[:,0],kmeans.cluster_centers_[:,1], s=100,c='yellow',label='Centroids')\n",
    "plt.legend()"
   ]
  },
  {
   "cell_type": "markdown",
   "id": "b8824404",
   "metadata": {
    "papermill": {
     "duration": 0.017121,
     "end_time": "2021-12-19T17:43:43.312988",
     "exception": false,
     "start_time": "2021-12-19T17:43:43.295867",
     "status": "completed"
    },
    "tags": []
   },
   "source": [
    "in this way we are able to see the three clusters from the given dataset and visualised it."
   ]
  },
  {
   "cell_type": "code",
   "execution_count": null,
   "id": "119dfa66",
   "metadata": {
    "papermill": {
     "duration": 0.017083,
     "end_time": "2021-12-19T17:43:43.347523",
     "exception": false,
     "start_time": "2021-12-19T17:43:43.330440",
     "status": "completed"
    },
    "tags": []
   },
   "outputs": [],
   "source": []
  }
 ],
 "metadata": {
  "kernelspec": {
   "display_name": "Python 3",
   "language": "python",
   "name": "python3"
  },
  "language_info": {
   "codemirror_mode": {
    "name": "ipython",
    "version": 3
   },
   "file_extension": ".py",
   "mimetype": "text/x-python",
   "name": "python",
   "nbconvert_exporter": "python",
   "pygments_lexer": "ipython3",
   "version": "3.7.12"
  },
  "papermill": {
   "default_parameters": {},
   "duration": 13.784512,
   "end_time": "2021-12-19T17:43:44.075664",
   "environment_variables": {},
   "exception": null,
   "input_path": "__notebook__.ipynb",
   "output_path": "__notebook__.ipynb",
   "parameters": {},
   "start_time": "2021-12-19T17:43:30.291152",
   "version": "2.3.3"
  }
 },
 "nbformat": 4,
 "nbformat_minor": 5
}
